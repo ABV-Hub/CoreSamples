{
 "cells": [
  {
   "cell_type": "code",
   "execution_count": 2,
   "metadata": {},
   "outputs": [],
   "source": [
    "import pandas as pd\n",
    "import numpy as np\n",
    "import seaborn as sns\n",
    "from sklearn.model_selection import KFold\n",
    "from sklearn.metrics import mean_squared_error\n",
    "from sklearn import linear_model\n",
    "import matplotlib.pyplot as plt\n",
    "%matplotlib inline\n",
    "from mlr.MLR import MyLinearRegression as mlr\n",
    "import numpy as np\n",
    "import statsmodels.api as sm\n",
    "\n"
   ]
  },
  {
   "cell_type": "code",
   "execution_count": 3,
   "metadata": {},
   "outputs": [],
   "source": [
    "dataset1 = pd.read_csv('Final.csv')\n",
    "\n",
    "dataset1 = dataset1.fillna(0)"
   ]
  },
  {
   "cell_type": "code",
   "execution_count": 4,
   "metadata": {},
   "outputs": [
    {
     "name": "stdout",
     "output_type": "stream",
     "text": [
      "   Age   d180     d180N        L*       SST    Alkane   Alkanol  Sediment  \\\n",
      "1    1  3.228  1.161664 -2.252229  0.152172 -0.132815  0.741463  2.729549   \n",
      "2    2  3.179  1.259892 -2.269439 -0.528866  0.155576  3.962484  2.729549   \n",
      "3    3  3.286  1.045395 -2.469090 -1.572280  0.638307  6.194622  2.729549   \n",
      "4    4  3.295  1.027353 -2.375546 -2.041553  1.278914  6.465403  2.729549   \n",
      "5    5  3.264  1.089497 -2.357049 -2.345439  2.172727  5.651368  2.729549   \n",
      "6    6  3.333  0.951177 -2.229444 -2.494080  2.973043  5.393774  2.729549   \n",
      "7    7  3.367  0.883019 -2.348336 -2.306027  3.648344  4.780840  2.729549   \n",
      "8    8  3.420  0.776772 -1.976850 -2.130118  4.176598  3.955021  2.729549   \n",
      "9    9  3.385  0.846935 -2.680360 -2.061786  4.928875  3.564781  2.729549   \n",
      "\n",
      "        Red     Green      Blue      Grey  \n",
      "1 -0.524649 -1.095312 -1.330603 -0.954727  \n",
      "2 -0.312894 -0.918423 -1.228388 -0.773885  \n",
      "3 -0.375493 -1.005194 -1.279251 -0.850825  \n",
      "4 -0.379937 -0.992837 -1.268917 -0.844385  \n",
      "5 -0.402180 -1.006533 -1.280533 -0.860091  \n",
      "6 -0.385050 -0.992674 -1.295394 -0.848565  \n",
      "7 -0.320940 -0.910702 -1.247910 -0.774299  \n",
      "8 -0.504086 -1.041021 -1.344961 -0.918140  \n",
      "9 -0.941572 -1.318181 -1.521709 -1.232629  \n"
     ]
    },
    {
     "data": {
      "text/html": [
       "<div>\n",
       "<style scoped>\n",
       "    .dataframe tbody tr th:only-of-type {\n",
       "        vertical-align: middle;\n",
       "    }\n",
       "\n",
       "    .dataframe tbody tr th {\n",
       "        vertical-align: top;\n",
       "    }\n",
       "\n",
       "    .dataframe thead th {\n",
       "        text-align: right;\n",
       "    }\n",
       "</style>\n",
       "<table border=\"1\" class=\"dataframe\">\n",
       "  <thead>\n",
       "    <tr style=\"text-align: right;\">\n",
       "      <th></th>\n",
       "      <th>Age</th>\n",
       "      <th>d180</th>\n",
       "      <th>d180N</th>\n",
       "      <th>L*</th>\n",
       "      <th>SST</th>\n",
       "      <th>Alkane</th>\n",
       "      <th>Alkanol</th>\n",
       "      <th>Sediment</th>\n",
       "      <th>Red</th>\n",
       "      <th>Green</th>\n",
       "      <th>Blue</th>\n",
       "      <th>Grey</th>\n",
       "    </tr>\n",
       "  </thead>\n",
       "  <tbody>\n",
       "    <tr>\n",
       "      <th>count</th>\n",
       "      <td>1903.000000</td>\n",
       "      <td>1903.000000</td>\n",
       "      <td>1.903000e+03</td>\n",
       "      <td>1903.000000</td>\n",
       "      <td>1903.000000</td>\n",
       "      <td>1903.000000</td>\n",
       "      <td>1903.000000</td>\n",
       "      <td>1903.000000</td>\n",
       "      <td>1903.000000</td>\n",
       "      <td>1903.000000</td>\n",
       "      <td>1903.000000</td>\n",
       "      <td>1903.000000</td>\n",
       "    </tr>\n",
       "    <tr>\n",
       "      <th>mean</th>\n",
       "      <td>1534.177614</td>\n",
       "      <td>3.807486</td>\n",
       "      <td>1.366267e-11</td>\n",
       "      <td>-0.290495</td>\n",
       "      <td>-0.352962</td>\n",
       "      <td>0.196626</td>\n",
       "      <td>0.308987</td>\n",
       "      <td>0.170414</td>\n",
       "      <td>0.009124</td>\n",
       "      <td>0.007043</td>\n",
       "      <td>0.006127</td>\n",
       "      <td>0.007615</td>\n",
       "    </tr>\n",
       "    <tr>\n",
       "      <th>std</th>\n",
       "      <td>1176.593587</td>\n",
       "      <td>0.498841</td>\n",
       "      <td>1.000000e+00</td>\n",
       "      <td>1.001075</td>\n",
       "      <td>1.045943</td>\n",
       "      <td>0.962319</td>\n",
       "      <td>0.986020</td>\n",
       "      <td>1.131473</td>\n",
       "      <td>0.496331</td>\n",
       "      <td>0.491195</td>\n",
       "      <td>0.490241</td>\n",
       "      <td>0.492846</td>\n",
       "    </tr>\n",
       "    <tr>\n",
       "      <th>min</th>\n",
       "      <td>0.000000</td>\n",
       "      <td>2.775000</td>\n",
       "      <td>-2.560963e+00</td>\n",
       "      <td>-2.902871</td>\n",
       "      <td>-2.494080</td>\n",
       "      <td>-1.439872</td>\n",
       "      <td>-2.748250</td>\n",
       "      <td>-2.025494</td>\n",
       "      <td>-3.238145</td>\n",
       "      <td>-3.037077</td>\n",
       "      <td>-2.752926</td>\n",
       "      <td>-3.075705</td>\n",
       "    </tr>\n",
       "    <tr>\n",
       "      <th>25%</th>\n",
       "      <td>475.500000</td>\n",
       "      <td>3.426000</td>\n",
       "      <td>-7.267121e-01</td>\n",
       "      <td>-1.059356</td>\n",
       "      <td>-1.436499</td>\n",
       "      <td>-0.282659</td>\n",
       "      <td>0.000000</td>\n",
       "      <td>-0.451596</td>\n",
       "      <td>0.000000</td>\n",
       "      <td>0.000000</td>\n",
       "      <td>0.000000</td>\n",
       "      <td>0.000000</td>\n",
       "    </tr>\n",
       "    <tr>\n",
       "      <th>50%</th>\n",
       "      <td>1302.000000</td>\n",
       "      <td>3.783000</td>\n",
       "      <td>4.908591e-02</td>\n",
       "      <td>-0.112870</td>\n",
       "      <td>0.000000</td>\n",
       "      <td>-0.031016</td>\n",
       "      <td>0.178058</td>\n",
       "      <td>-0.030568</td>\n",
       "      <td>0.000000</td>\n",
       "      <td>0.000000</td>\n",
       "      <td>0.000000</td>\n",
       "      <td>0.000000</td>\n",
       "    </tr>\n",
       "    <tr>\n",
       "      <th>75%</th>\n",
       "      <td>2441.500000</td>\n",
       "      <td>4.170000</td>\n",
       "      <td>7.647445e-01</td>\n",
       "      <td>0.501482</td>\n",
       "      <td>0.534591</td>\n",
       "      <td>0.463392</td>\n",
       "      <td>0.778891</td>\n",
       "      <td>0.320162</td>\n",
       "      <td>0.000000</td>\n",
       "      <td>0.000000</td>\n",
       "      <td>0.000000</td>\n",
       "      <td>0.000000</td>\n",
       "    </tr>\n",
       "    <tr>\n",
       "      <th>max</th>\n",
       "      <td>4260.000000</td>\n",
       "      <td>5.085000</td>\n",
       "      <td>2.069769e+00</td>\n",
       "      <td>1.585409</td>\n",
       "      <td>1.440398</td>\n",
       "      <td>5.710774</td>\n",
       "      <td>6.465403</td>\n",
       "      <td>4.233408</td>\n",
       "      <td>1.415121</td>\n",
       "      <td>1.448314</td>\n",
       "      <td>1.586844</td>\n",
       "      <td>1.412118</td>\n",
       "    </tr>\n",
       "  </tbody>\n",
       "</table>\n",
       "</div>"
      ],
      "text/plain": [
       "               Age         d180         d180N           L*          SST  \\\n",
       "count  1903.000000  1903.000000  1.903000e+03  1903.000000  1903.000000   \n",
       "mean   1534.177614     3.807486  1.366267e-11    -0.290495    -0.352962   \n",
       "std    1176.593587     0.498841  1.000000e+00     1.001075     1.045943   \n",
       "min       0.000000     2.775000 -2.560963e+00    -2.902871    -2.494080   \n",
       "25%     475.500000     3.426000 -7.267121e-01    -1.059356    -1.436499   \n",
       "50%    1302.000000     3.783000  4.908591e-02    -0.112870     0.000000   \n",
       "75%    2441.500000     4.170000  7.647445e-01     0.501482     0.534591   \n",
       "max    4260.000000     5.085000  2.069769e+00     1.585409     1.440398   \n",
       "\n",
       "            Alkane      Alkanol     Sediment          Red        Green  \\\n",
       "count  1903.000000  1903.000000  1903.000000  1903.000000  1903.000000   \n",
       "mean      0.196626     0.308987     0.170414     0.009124     0.007043   \n",
       "std       0.962319     0.986020     1.131473     0.496331     0.491195   \n",
       "min      -1.439872    -2.748250    -2.025494    -3.238145    -3.037077   \n",
       "25%      -0.282659     0.000000    -0.451596     0.000000     0.000000   \n",
       "50%      -0.031016     0.178058    -0.030568     0.000000     0.000000   \n",
       "75%       0.463392     0.778891     0.320162     0.000000     0.000000   \n",
       "max       5.710774     6.465403     4.233408     1.415121     1.448314   \n",
       "\n",
       "              Blue         Grey  \n",
       "count  1903.000000  1903.000000  \n",
       "mean      0.006127     0.007615  \n",
       "std       0.490241     0.492846  \n",
       "min      -2.752926    -3.075705  \n",
       "25%       0.000000     0.000000  \n",
       "50%       0.000000     0.000000  \n",
       "75%       0.000000     0.000000  \n",
       "max       1.586844     1.412118  "
      ]
     },
     "execution_count": 4,
     "metadata": {},
     "output_type": "execute_result"
    }
   ],
   "source": [
    "print(dataset1[1:10])\n",
    "\n",
    "dataset1.describe()"
   ]
  },
  {
   "cell_type": "markdown",
   "metadata": {},
   "source": [
    "#MLR"
   ]
  },
  {
   "cell_type": "code",
   "execution_count": 5,
   "metadata": {},
   "outputs": [],
   "source": [
    "X = dataset1.drop(columns = ['d180N'])\n",
    "y = dataset1.drop(columns = ['Age','d180','L*','SST','Alkane','Alkanol','Sediment','Red','Green','Blue','Grey'])"
   ]
  },
  {
   "cell_type": "code",
   "execution_count": 6,
   "metadata": {},
   "outputs": [
    {
     "data": {
      "text/plain": [
       "(1903, 11)"
      ]
     },
     "execution_count": 6,
     "metadata": {},
     "output_type": "execute_result"
    }
   ],
   "source": [
    "X.shape"
   ]
  },
  {
   "cell_type": "code",
   "execution_count": 7,
   "metadata": {},
   "outputs": [],
   "source": [
    "model = mlr()"
   ]
  },
  {
   "cell_type": "code",
   "execution_count": 8,
   "metadata": {},
   "outputs": [],
   "source": [
    "model.ingest_data(X,y)"
   ]
  },
  {
   "cell_type": "code",
   "execution_count": 9,
   "metadata": {},
   "outputs": [],
   "source": [
    "model.fit()"
   ]
  },
  {
   "cell_type": "code",
   "execution_count": 10,
   "metadata": {},
   "outputs": [],
   "source": [
    "feature_cols = ['Age','d180','L*','SST','Alkane','Alkanol','Sediment','Red','Green','Blue','Grey']\n",
    "target_col = 'd180N'"
   ]
  },
  {
   "cell_type": "code",
   "execution_count": 11,
   "metadata": {},
   "outputs": [],
   "source": [
    "model.fit_dataframe(X=feature_cols,y = target_col,dataframe=dataset1)"
   ]
  },
  {
   "cell_type": "code",
   "execution_count": 12,
   "metadata": {},
   "outputs": [
    {
     "name": "stdout",
     "output_type": "stream",
     "text": [
      "R-squared:  1.0\n",
      "Adjusted R-squared:  1.0\n",
      "MSE:  8.256283917060607e-20\n"
     ]
    }
   ],
   "source": [
    "print (\"R-squared: \",model.r_squared())\n",
    "print (\"Adjusted R-squared: \",model.adj_r_squared())\n",
    "print(\"MSE: \",model.mse())"
   ]
  },
  {
   "cell_type": "code",
   "execution_count": 13,
   "metadata": {},
   "outputs": [
    {
     "name": "stdout",
     "output_type": "stream",
     "text": [
      "sse:     0.0000\n",
      "sst:     1902.0000\n",
      "mse:     0.0000\n",
      "r^2:     1.0000\n",
      "adj_r^2: 1.0000\n",
      "AIC:     -78200.0451\n",
      "BIC:     -78133.4309\n"
     ]
    }
   ],
   "source": [
    "model.print_metrics()"
   ]
  },
  {
   "cell_type": "code",
   "execution_count": 14,
   "metadata": {},
   "outputs": [
    {
     "data": {
      "text/plain": [
       "array([[ 1.        , -0.73379265,  0.59106693,  0.78996098, -0.57725777,\n",
       "        -0.75117538, -0.36735032, -0.01542331, -0.00317219,  0.0052326 ,\n",
       "        -0.00598204],\n",
       "       [-0.73379265,  1.        , -0.78802308, -0.56556407,  0.47152582,\n",
       "         0.53191234,  0.30139349, -0.10295636, -0.10245447, -0.10079771,\n",
       "        -0.10280812],\n",
       "       [ 0.59106693, -0.78802308,  1.        ,  0.43602207, -0.54472637,\n",
       "        -0.49863043, -0.11080573,  0.10437035,  0.13872795,  0.16169006,\n",
       "         0.13151253],\n",
       "       [ 0.78996098, -0.56556407,  0.43602207,  1.        , -0.65254766,\n",
       "        -0.78118605, -0.32995302, -0.0587376 , -0.04715724, -0.04137046,\n",
       "        -0.05025356],\n",
       "       [-0.57725777,  0.47152582, -0.54472637, -0.65254766,  1.        ,\n",
       "         0.74905577,  0.01375459,  0.0287594 , -0.02322182, -0.06221859,\n",
       "        -0.01205862],\n",
       "       [-0.75117538,  0.53191234, -0.49863043, -0.78118605,  0.74905577,\n",
       "         1.        ,  0.31915915, -0.01443508, -0.06160272, -0.09642006,\n",
       "        -0.05149194],\n",
       "       [-0.36735032,  0.30139349, -0.11080573, -0.32995302,  0.01375459,\n",
       "         0.31915915,  1.        , -0.32253052, -0.28290518, -0.23747893,\n",
       "        -0.29063786],\n",
       "       [-0.01542331, -0.10295636,  0.10437035, -0.0587376 ,  0.0287594 ,\n",
       "        -0.01443508, -0.32253052,  1.        ,  0.98902927,  0.96809474,\n",
       "         0.99372732],\n",
       "       [-0.00317219, -0.10245447,  0.13872795, -0.04715724, -0.02322182,\n",
       "        -0.06160272, -0.28290518,  0.98902927,  1.        ,  0.98882871,\n",
       "         0.99917999],\n",
       "       [ 0.0052326 , -0.10079771,  0.16169006, -0.04137046, -0.06221859,\n",
       "        -0.09642006, -0.23747893,  0.96809474,  0.98882871,  1.        ,\n",
       "         0.98760553],\n",
       "       [-0.00598204, -0.10280812,  0.13151253, -0.05025356, -0.01205862,\n",
       "        -0.05149194, -0.29063786,  0.99372732,  0.99917999,  0.98760553,\n",
       "         1.        ]])"
      ]
     },
     "execution_count": 14,
     "metadata": {},
     "output_type": "execute_result"
    }
   ],
   "source": [
    "model.ingest_data(X,y)\n",
    "model.corrcoef()"
   ]
  },
  {
   "cell_type": "code",
   "execution_count": 15,
   "metadata": {},
   "outputs": [
    {
     "data": {
      "text/plain": [
       "array([[ 1.38437247e+06, -4.30687382e+02,  6.96193067e+02,\n",
       "         9.72165131e+02, -6.53604863e+02, -8.71471890e+02,\n",
       "        -4.89047669e+02, -9.00689500e+00, -1.83332543e+00,\n",
       "         3.01824148e+00, -3.46886079e+00],\n",
       "       [-4.30687382e+02,  2.48842540e-01, -3.93520907e-01,\n",
       "        -2.95088339e-01,  2.26353289e-01,  2.61630240e-01,\n",
       "         1.70114167e-01, -2.54909849e-02, -2.51042642e-02,\n",
       "        -2.46503334e-02, -2.52755694e-02],\n",
       "       [ 6.96193067e+02, -3.93520907e-01,  1.00215089e+00,\n",
       "         4.56544334e-01, -5.24763922e-01, -4.92187864e-01,\n",
       "        -1.25508482e-01,  5.18578855e-02,  6.82157729e-02,\n",
       "         7.93523373e-02,  6.48850900e-02],\n",
       "       [ 9.72165131e+02, -2.95088339e-01,  4.56544334e-01,\n",
       "         1.09399628e+00, -6.56809114e-01, -8.05652872e-01,\n",
       "        -3.90484970e-01, -3.04926563e-02, -2.42276085e-02,\n",
       "        -2.12132952e-02, -2.59051432e-02],\n",
       "       [-6.53604863e+02,  2.26353289e-01, -5.24763922e-01,\n",
       "        -6.56809114e-01,  9.26057651e-01,  7.10753034e-01,\n",
       "         1.49765255e-02,  1.37363060e-02, -1.09766444e-02,\n",
       "        -2.93527627e-02, -5.71910163e-03],\n",
       "       [-8.71471890e+02,  2.61630240e-01, -4.92187864e-01,\n",
       "        -8.05652872e-01,  7.10753034e-01,  9.72234701e-01,\n",
       "         3.56071453e-01, -7.06440765e-03, -2.98359420e-02,\n",
       "        -4.66082485e-02, -2.50228054e-02],\n",
       "       [-4.89047669e+02,  1.70114167e-01, -1.25508482e-01,\n",
       "        -3.90484970e-01,  1.49765255e-02,  3.56071453e-01,\n",
       "         1.28023176e+00, -1.81128265e-01, -1.57231467e-01,\n",
       "        -1.31728343e-01, -1.62071890e-01],\n",
       "       [-9.00689500e+00, -2.54909849e-02,  5.18578855e-02,\n",
       "        -3.04926563e-02,  1.37363060e-02, -7.06440765e-03,\n",
       "        -1.81128265e-01,  2.46344137e-01,  2.41120721e-01,\n",
       "         2.35558517e-01,  2.43080186e-01],\n",
       "       [-1.83332543e+00, -2.51042642e-02,  6.82157729e-02,\n",
       "        -2.42276085e-02, -1.09766444e-02, -2.98359420e-02,\n",
       "        -1.57231467e-01,  2.41120721e-01,  2.41272903e-01,\n",
       "         2.38114137e-01,  2.41885156e-01],\n",
       "       [ 3.01824148e+00, -2.46503334e-02,  7.93523373e-02,\n",
       "        -2.12132952e-02, -2.93527627e-02, -4.66082485e-02,\n",
       "        -1.31728343e-01,  2.35558517e-01,  2.38114137e-01,\n",
       "         2.40336468e-01,  2.38618748e-01],\n",
       "       [-3.46886079e+00, -2.52755694e-02,  6.48850900e-02,\n",
       "        -2.59051432e-02, -5.71910163e-03, -2.50228054e-02,\n",
       "        -1.62071890e-01,  2.43080186e-01,  2.41885156e-01,\n",
       "         2.38618748e-01,  2.42897154e-01]])"
      ]
     },
     "execution_count": 15,
     "metadata": {},
     "output_type": "execute_result"
    }
   ],
   "source": [
    "model.covar()"
   ]
  },
  {
   "cell_type": "code",
   "execution_count": 16,
   "metadata": {},
   "outputs": [
    {
     "data": {
      "image/png": "[encoded data removed]",
      "text/plain": [
       "<Figure size 432x288 with 2 Axes>"
      ]
     },
     "metadata": {
      "needs_background": "light"
     },
     "output_type": "display_data"
    }
   ],
   "source": [
    "model.corrplot(cmap='inferno',annot=True)"
   ]
  },
  {
   "cell_type": "code",
   "execution_count": 17,
   "metadata": {},
   "outputs": [
    {
     "name": "stderr",
     "output_type": "stream",
     "text": [
      "C:\\Users\\Brandon\\AppData\\Local\\Continuum\\anaconda3\\lib\\site-packages\\numpy\\core\\fromnumeric.py:2389: FutureWarning: Method .ptp is deprecated and will be removed in a future version. Use numpy.ptp instead.\n",
      "  return ptp(axis=axis, out=out, **kwargs)\n"
     ]
    },
    {
     "data": {
      "text/plain": [
       "(2.0868936984368725e+21, 0.0)"
      ]
     },
     "execution_count": 17,
     "metadata": {},
     "output_type": "execute_result"
    }
   ],
   "source": [
    "model.ftest()"
   ]
  },
  {
   "cell_type": "code",
   "execution_count": 18,
   "metadata": {},
   "outputs": [
    {
     "name": "stdout",
     "output_type": "stream",
     "text": [
      "P-values: const       0.000000\n",
      "Age         0.588989\n",
      "d180        0.000000\n",
      "L*          0.916540\n",
      "SST         0.509378\n",
      "Alkane      0.321533\n",
      "Alkanol     0.233408\n",
      "Sediment    0.339227\n",
      "Red         0.383234\n",
      "Green       0.370957\n",
      "Blue        0.370185\n",
      "Grey        0.372799\n",
      "dtype: float64\n",
      "t-test values: const       6.900656e+10\n",
      "Age         5.403933e-01\n",
      "d180       -7.341751e+10\n",
      "L*         -1.048075e-01\n",
      "SST        -6.599314e-01\n",
      "Alkane      9.915717e-01\n",
      "Alkanol    -1.192006e+00\n",
      "Sediment   -9.559348e-01\n",
      "Red        -8.721564e-01\n",
      "Green      -8.948948e-01\n",
      "Blue       -8.963405e-01\n",
      "Grey        8.914534e-01\n",
      "dtype: float64\n",
      "Standard errors: const       1.106078e-10\n",
      "Age         1.189413e-14\n",
      "d180        2.730474e-11\n",
      "L*          1.218500e-11\n",
      "SST         1.249546e-11\n",
      "Alkane      1.203055e-11\n",
      "Alkanol     1.498707e-11\n",
      "Sediment    7.977261e-12\n",
      "Red         2.106187e-09\n",
      "Green       4.031256e-09\n",
      "Blue        8.205053e-10\n",
      "Grey        6.914339e-09\n",
      "dtype: float64\n"
     ]
    }
   ],
   "source": [
    "print(\"P-values:\",model.pvalues())\n",
    "print(\"t-test values:\",model.tvalues())\n",
    "print(\"Standard errors:\",model.std_err())"
   ]
  },
  {
   "cell_type": "code",
   "execution_count": 19,
   "metadata": {},
   "outputs": [
    {
     "data": {
      "text/html": [
       "<div>\n",
       "<style scoped>\n",
       "    .dataframe tbody tr th:only-of-type {\n",
       "        vertical-align: middle;\n",
       "    }\n",
       "\n",
       "    .dataframe tbody tr th {\n",
       "        vertical-align: top;\n",
       "    }\n",
       "\n",
       "    .dataframe thead th {\n",
       "        text-align: right;\n",
       "    }\n",
       "</style>\n",
       "<table border=\"1\" class=\"dataframe\">\n",
       "  <thead>\n",
       "    <tr style=\"text-align: right;\">\n",
       "      <th></th>\n",
       "      <th>0</th>\n",
       "      <th>1</th>\n",
       "    </tr>\n",
       "  </thead>\n",
       "  <tbody>\n",
       "    <tr>\n",
       "      <th>const</th>\n",
       "      <td>7.632662e+00</td>\n",
       "      <td>7.632662e+00</td>\n",
       "    </tr>\n",
       "    <tr>\n",
       "      <th>Age</th>\n",
       "      <td>-1.689949e-14</td>\n",
       "      <td>2.975451e-14</td>\n",
       "    </tr>\n",
       "    <tr>\n",
       "      <th>d180</th>\n",
       "      <td>-2.004646e+00</td>\n",
       "      <td>-2.004646e+00</td>\n",
       "    </tr>\n",
       "    <tr>\n",
       "      <th>L*</th>\n",
       "      <td>-2.517454e-11</td>\n",
       "      <td>2.262038e-11</td>\n",
       "    </tr>\n",
       "    <tr>\n",
       "      <th>SST</th>\n",
       "      <td>-3.275248e-11</td>\n",
       "      <td>1.626019e-11</td>\n",
       "    </tr>\n",
       "    <tr>\n",
       "      <th>Alkane</th>\n",
       "      <td>-1.166539e-11</td>\n",
       "      <td>3.552370e-11</td>\n",
       "    </tr>\n",
       "    <tr>\n",
       "      <th>Alkanol</th>\n",
       "      <td>-4.725762e-11</td>\n",
       "      <td>1.152825e-11</td>\n",
       "    </tr>\n",
       "    <tr>\n",
       "      <th>Sediment</th>\n",
       "      <td>-2.327090e-11</td>\n",
       "      <td>8.019417e-12</td>\n",
       "    </tr>\n",
       "    <tr>\n",
       "      <th>Red</th>\n",
       "      <td>-5.967619e-09</td>\n",
       "      <td>2.293770e-09</td>\n",
       "    </tr>\n",
       "    <tr>\n",
       "      <th>Green</th>\n",
       "      <td>-1.151373e-08</td>\n",
       "      <td>4.298627e-09</td>\n",
       "    </tr>\n",
       "    <tr>\n",
       "      <th>Blue</th>\n",
       "      <td>-2.344643e-09</td>\n",
       "      <td>8.737386e-10</td>\n",
       "    </tr>\n",
       "    <tr>\n",
       "      <th>Grey</th>\n",
       "      <td>-7.396724e-09</td>\n",
       "      <td>1.972435e-08</td>\n",
       "    </tr>\n",
       "  </tbody>\n",
       "</table>\n",
       "</div>"
      ],
      "text/plain": [
       "                     0             1\n",
       "const     7.632662e+00  7.632662e+00\n",
       "Age      -1.689949e-14  2.975451e-14\n",
       "d180     -2.004646e+00 -2.004646e+00\n",
       "L*       -2.517454e-11  2.262038e-11\n",
       "SST      -3.275248e-11  1.626019e-11\n",
       "Alkane   -1.166539e-11  3.552370e-11\n",
       "Alkanol  -4.725762e-11  1.152825e-11\n",
       "Sediment -2.327090e-11  8.019417e-12\n",
       "Red      -5.967619e-09  2.293770e-09\n",
       "Green    -1.151373e-08  4.298627e-09\n",
       "Blue     -2.344643e-09  8.737386e-10\n",
       "Grey     -7.396724e-09  1.972435e-08"
      ]
     },
     "execution_count": 19,
     "metadata": {},
     "output_type": "execute_result"
    }
   ],
   "source": [
    "model.conf_int()"
   ]
  },
  {
   "cell_type": "code",
   "execution_count": 20,
   "metadata": {},
   "outputs": [
    {
     "data": {
      "image/png": "[encoded data removed]",
      "text/plain": [
       "<Figure size 432x288 with 1 Axes>"
      ]
     },
     "metadata": {
      "needs_background": "light"
     },
     "output_type": "display_data"
    }
   ],
   "source": [
    "model.fitted_vs_residual()"
   ]
  },
  {
   "cell_type": "code",
   "execution_count": 21,
   "metadata": {},
   "outputs": [
    {
     "data": {
      "image/png": "[encoded data removed]",
      "text/plain": [
       "<Figure size 432x288 with 1 Axes>"
      ]
     },
     "metadata": {
      "needs_background": "light"
     },
     "output_type": "display_data"
    }
   ],
   "source": [
    "model.histogram_resid()"
   ]
  },
  {
   "cell_type": "code",
   "execution_count": 22,
   "metadata": {},
   "outputs": [
    {
     "data": {
      "image/png": "[encoded data removed]",
      "text/plain": [
       "<Figure size 432x288 with 1 Axes>"
      ]
     },
     "metadata": {
      "needs_background": "light"
     },
     "output_type": "display_data"
    }
   ],
   "source": [
    "model.qqplot_resid()"
   ]
  },
  {
   "cell_type": "code",
   "execution_count": 23,
   "metadata": {},
   "outputs": [
    {
     "name": "stdout",
     "output_type": "stream",
     "text": [
      "                                 OLS Regression Results                                \n",
      "=======================================================================================\n",
      "Dep. Variable:                  d180N   R-squared (uncentered):                   0.793\n",
      "Model:                            OLS   Adj. R-squared (uncentered):              0.791\n",
      "Method:                 Least Squares   F-statistic:                              657.2\n",
      "Date:                Sun, 27 Oct 2019   Prob (F-statistic):                        0.00\n",
      "Time:                        20:06:18   Log-Likelihood:                         -1203.1\n",
      "No. Observations:                1903   AIC:                                      2428.\n",
      "Df Residuals:                    1892   BIC:                                      2489.\n",
      "Df Model:                          11                                                  \n",
      "Covariance Type:            nonrobust                                                  \n",
      "==============================================================================\n",
      "                 coef    std err          t      P>|t|      [0.025      0.975]\n",
      "------------------------------------------------------------------------------\n",
      "Age            0.0004   1.59e-05     27.973      0.000       0.000       0.000\n",
      "d180          -0.1595      0.009    -18.176      0.000      -0.177      -0.142\n",
      "L*             0.4973      0.016     31.903      0.000       0.467       0.528\n",
      "SST           -0.0399      0.020     -2.017      0.044      -0.079      -0.001\n",
      "Alkane         0.0030      0.019      0.158      0.875      -0.034       0.040\n",
      "Alkanol        0.0900      0.024      3.798      0.000       0.044       0.136\n",
      "Sediment      -0.0164      0.013     -1.295      0.195      -0.041       0.008\n",
      "Red            2.6216      3.341      0.785      0.433      -3.930       9.174\n",
      "Green          1.1523      6.395      0.180      0.857     -11.390      13.695\n",
      "Blue          -0.0646      1.302     -0.050      0.960      -2.617       2.488\n",
      "Grey          -3.6472     10.969     -0.333      0.740     -25.160      17.865\n",
      "==============================================================================\n",
      "Omnibus:                      114.395   Durbin-Watson:                   0.286\n",
      "Prob(Omnibus):                  0.000   Jarque-Bera (JB):              157.493\n",
      "Skew:                           0.531   Prob(JB):                     6.32e-35\n",
      "Kurtosis:                       3.926   Cond. No.                     2.44e+06\n",
      "==============================================================================\n",
      "\n",
      "Warnings:\n",
      "[1] Standard Errors assume that the covariance matrix of the errors is correctly specified.\n",
      "[2] The condition number is large, 2.44e+06. This might indicate that there are\n",
      "strong multicollinearity or other numerical problems.\n"
     ]
    }
   ],
   "source": [
    "mod = sm.OLS(y,X)\n",
    "res = mod.fit()\n",
    "print(res.summary())"
   ]
  },
  {
   "cell_type": "code",
   "execution_count": 24,
   "metadata": {},
   "outputs": [
    {
     "name": "stdout",
     "output_type": "stream",
     "text": [
      "Parameters:  Age         0.000444\n",
      "d180       -0.159518\n",
      "L*          0.497302\n",
      "SST        -0.039933\n",
      "Alkane      0.003011\n",
      "Alkanol     0.089963\n",
      "Sediment   -0.016383\n",
      "Red         2.621633\n",
      "Green       1.152320\n",
      "Blue       -0.064556\n",
      "Grey       -3.647211\n",
      "dtype: float64\n",
      "Standard errors:  Age          0.000016\n",
      "d180         0.008776\n",
      "L*           0.015588\n",
      "SST          0.019802\n",
      "Alkane       0.019086\n",
      "Alkanol      0.023686\n",
      "Sediment     0.012650\n",
      "Red          3.340843\n",
      "Green        6.395381\n",
      "Blue         1.301700\n",
      "Grey        10.969019\n",
      "dtype: float64\n",
      "Predicted values:  [-1.14643398 -0.68860523 -0.27825931 ...  2.11639162  1.9218885\n",
      "  2.0875374 ]\n"
     ]
    },
    {
     "data": {
      "text/plain": [
       "[<matplotlib.lines.Line2D at 0x2d1cf0025c0>,\n",
       " <matplotlib.lines.Line2D at 0x2d1cffeaba8>,\n",
       " <matplotlib.lines.Line2D at 0x2d1cffeacf8>,\n",
       " <matplotlib.lines.Line2D at 0x2d1cffeae48>,\n",
       " <matplotlib.lines.Line2D at 0x2d1cffeaf98>,\n",
       " <matplotlib.lines.Line2D at 0x2d1cfff6128>,\n",
       " <matplotlib.lines.Line2D at 0x2d1cfff6278>,\n",
       " <matplotlib.lines.Line2D at 0x2d1cfff63c8>,\n",
       " <matplotlib.lines.Line2D at 0x2d1cfff6518>,\n",
       " <matplotlib.lines.Line2D at 0x2d1cfff6668>,\n",
       " <matplotlib.lines.Line2D at 0x2d1cfff67b8>]"
      ]
     },
     "execution_count": 24,
     "metadata": {},
     "output_type": "execute_result"
    },
    {
     "data": {
      "image/png": "[encoded data removed]",
      "text/plain": [
       "<Figure size 576x432 with 1 Axes>"
      ]
     },
     "metadata": {
      "needs_background": "light"
     },
     "output_type": "display_data"
    }
   ],
   "source": [
    "from statsmodels.sandbox.regression.predstd import wls_prediction_std\n",
    "\n",
    "print('Parameters: ', res.params)\n",
    "print('Standard errors: ', res.bse)\n",
    "print('Predicted values: ', res.predict())\n",
    "\n",
    "prstd, iv_l, iv_u = wls_prediction_std(res)\n",
    "\n",
    "fig, ax = plt.subplots(figsize=(8,6))\n",
    "\n",
    "ax.plot(X, y, 'o', label=\"data\")\n",
    "ax.plot(X, y, 'b-', label=\"True\")\n",
    "ax.plot(X, res.fittedvalues, 'r--.', label=\"OLS\")\n",
    "ax.plot(X, iv_u, 'r--')\n",
    "ax.plot(X, iv_l, 'r--')\n"
   ]
  },
  {
   "cell_type": "code",
   "execution_count": null,
   "metadata": {},
   "outputs": [],
   "source": []
  },
  {
   "cell_type": "markdown",
   "metadata": {},
   "source": [
    "# Ridge Regression"
   ]
  },
  {
   "cell_type": "code",
   "execution_count": 72,
   "metadata": {},
   "outputs": [],
   "source": [
    "import matplotlib.pyplot as plt\n",
    "import numpy as np \n",
    "import pandas as pd\n",
    "import matplotlib\n",
    "\n",
    "matplotlib.rcParams.update({'font.size': 12})\n",
    "\n",
    "from sklearn.model_selection import train_test_split\n",
    "from sklearn.linear_model import LinearRegression\n",
    "from sklearn.linear_model import Ridge\n"
   ]
  },
  {
   "cell_type": "code",
   "execution_count": 73,
   "metadata": {},
   "outputs": [],
   "source": [
    "#print type(newY)# pandas core frame\n",
    "X_train,X_test,y_train,y_test=train_test_split(X,y,test_size=0.2,random_state=0)\n"
   ]
  },
  {
   "cell_type": "code",
   "execution_count": 74,
   "metadata": {},
   "outputs": [],
   "source": [
    "rr = Ridge(alpha=0.1) # higher the alpha value, more restriction on the coefficients; low alpha > more generalization, coefficients are barely\n",
    "# restricted and in this case linear and ridge regression resembles\n",
    "rr.fit(X_train, y_train)\n",
    "rr100 = Ridge(alpha=25) #  comparison with alpha value\n",
    "rr100.fit(X_train, y_train)\n",
    "\n",
    "Ridge_train_score = rr.score(X_train,y_train)\n",
    "Ridge_test_score = rr.score(X_test, y_test)\n",
    "Ridge_train_score100 = rr100.score(X_train,y_train)\n",
    "Ridge_test_score100 = rr100.score(X_test, y_test)"
   ]
  },
  {
   "cell_type": "code",
   "execution_count": 75,
   "metadata": {},
   "outputs": [
    {
     "name": "stdout",
     "output_type": "stream",
     "text": [
      "ridge regression train score low alpha: 0.9999996989569935\n",
      "ridge regression test score low alpha: 0.9999996645112561\n",
      "ridge regression train score high alpha: 0.9892838795771663\n",
      "ridge regression test score high alpha: 0.9872381578975171\n"
     ]
    }
   ],
   "source": [
    "\n",
    "print (\"ridge regression train score low alpha:\", Ridge_train_score)\n",
    "print (\"ridge regression test score low alpha:\", Ridge_test_score)\n",
    "print (\"ridge regression train score high alpha:\", Ridge_train_score100)\n",
    "print (\"ridge regression test score high alpha:\", Ridge_test_score100)"
   ]
  },
  {
   "cell_type": "code",
   "execution_count": 76,
   "metadata": {},
   "outputs": [],
   "source": [
    "#cross-validation\n",
    "\n",
    "from sklearn.model_selection import cross_val_score\n",
    "\n",
    "\n",
    "\n",
    "scores_rr = cross_val_score(rr,X,y,cv = 10)\n",
    "\n",
    "scores_rr100 = cross_val_score(rr100,X,y,cv = 100)\n"
   ]
  },
  {
   "cell_type": "code",
   "execution_count": 77,
   "metadata": {},
   "outputs": [
    {
     "name": "stdout",
     "output_type": "stream",
     "text": [
      "ridge regression cv score low alpha: [0.99999871 0.99999902 0.99999955 0.99999936 0.99999942 0.99999937\n",
      " 0.99999934 0.99999968 0.9999993  0.99999772]\n",
      "ridge regression cv score high alpha: [ 0.86348809  0.94570265  0.81162814  0.97725766  0.9490304   0.94882863\n",
      "  0.96517321  0.27293951  0.83378156  0.95214228  0.4718738   0.97694169\n",
      "  0.94669538  0.91684907  0.95307313  0.9596284   0.90689109  0.98545846\n",
      "  0.86880879  0.8718766   0.97303739  0.82932772  0.99303581  0.89222969\n",
      "  0.74308669  0.95434631  0.97113031  0.9346457  -0.45622368  0.96295938\n",
      "  0.93416272  0.88459899  0.8549135   0.98713489  0.99432243  0.99415897\n",
      "  0.99065934  0.96811112  0.98163234  0.95121911  0.99524521  0.98029398\n",
      "  0.95191651  0.97774821  0.97815616  0.99200545  0.96925209  0.96026714\n",
      "  0.98797537  0.9690243   0.99069377  0.98842777  0.97892768  0.98818429\n",
      "  0.98846638  0.98837554  0.9634141   0.94572872  0.9164217   0.94124998\n",
      "  0.98657849  0.95228518  0.9728789   0.90068998  0.98069693  0.97963927\n",
      "  0.95328803  0.97603401  0.98728673  0.98591999  0.97984789  0.99228453\n",
      "  0.97493917  0.97940724  0.98844093  0.99536335  0.99139602  0.9595373\n",
      "  0.98434546  0.98887952  0.96699529  0.8527299   0.98144571  0.97505114\n",
      "  0.9804964   0.97935618  0.91522807  0.83128383  0.95779929  0.98803863\n",
      "  0.97178894  0.92119537  0.92231852  0.97804429  0.95799553  0.96049816\n",
      "  0.89405632  0.87750194  0.92072891  0.93780434]\n",
      "Average ridge regression cv score low alpha: 0.9999991461317217\n",
      "Average ridge regression cv score high alpha: 0.9244842729277734\n"
     ]
    }
   ],
   "source": [
    "\n",
    "\n",
    "print (\"ridge regression cv score low alpha:\", scores_rr)\n",
    "print (\"ridge regression cv score high alpha:\", scores_rr100)\n",
    "\n",
    "\n",
    "print (\"Average ridge regression cv score low alpha:\", np.mean(scores_rr))\n",
    "print (\"Average ridge regression cv score high alpha:\", np.mean(scores_rr100))"
   ]
  },
  {
   "cell_type": "code",
   "execution_count": 78,
   "metadata": {},
   "outputs": [
    {
     "data": {
      "image/png": "[encoded data removed]",
      "text/plain": [
       "<Figure size 432x288 with 1 Axes>"
      ]
     },
     "metadata": {
      "needs_background": "light"
     },
     "output_type": "display_data"
    }
   ],
   "source": [
    "plt.plot(rr.coef_,alpha=0.7,linestyle='none',marker='*',markersize=5,color='red',label=r'Ridge; $\\alpha = 0.01$',zorder=7) # zorder for ordering the markers\n",
    "plt.plot(rr100.coef_,alpha=0.5,linestyle='none',marker='d',markersize=6,color='blue',label=r'Ridge; $\\alpha = 100$') # alpha here is for transparency\n",
    "plt.xlabel('Coefficient Index',fontsize=16)\n",
    "plt.ylabel('Coefficient Magnitude',fontsize=16)\n",
    "plt.show()"
   ]
  },
  {
   "cell_type": "markdown",
   "metadata": {},
   "source": [
    "#Multiple Output Regressor"
   ]
  },
  {
   "cell_type": "markdown",
   "metadata": {},
   "source": [
    "#RFE"
   ]
  },
  {
   "cell_type": "code",
   "execution_count": 79,
   "metadata": {},
   "outputs": [],
   "source": [
    "from sklearn.svm import SVC\n",
    "from sklearn.feature_selection import RFE\n",
    "from sklearn import datasets\n",
    "from sklearn.linear_model import LinearRegression\n",
    "import sklearn.linear_model as skl\n",
    "from sklearn import metrics, model_selection\n"
   ]
  },
  {
   "cell_type": "code",
   "execution_count": 80,
   "metadata": {},
   "outputs": [
    {
     "data": {
      "text/plain": [
       "((1903, 11), (1903, 1))"
      ]
     },
     "execution_count": 80,
     "metadata": {},
     "output_type": "execute_result"
    }
   ],
   "source": [
    "X = X\n",
    "y = y\n",
    "y_array = y.values\n",
    "X.shape, y_array.shape"
   ]
  },
  {
   "cell_type": "code",
   "execution_count": 81,
   "metadata": {},
   "outputs": [
    {
     "name": "stdout",
     "output_type": "stream",
     "text": [
      "Num Features: 5\n",
      "Selected Features: [False  True False False False False False  True  True  True  True]\n",
      "Feature Ranking: [7 1 6 5 3 2 4 1 1 1 1]\n",
      "Estimator: LinearRegression(copy_X=True, fit_intercept=True, n_jobs=None, normalize=False)\n"
     ]
    }
   ],
   "source": [
    "model2 = LinearRegression()\n",
    "rfe = RFE(model2, 5)\n",
    "fit = rfe.fit(X,y_array.ravel())\n",
    "print(\"Num Features: %d\" %fit.n_features_)\n",
    "print(\"Selected Features: %s\" % fit.support_)\n",
    "print (\"Feature Ranking: %s\" % fit.ranking_)\n",
    "print (\"Estimator: %s\" % fit.estimator_)"
   ]
  },
  {
   "cell_type": "code",
   "execution_count": null,
   "metadata": {},
   "outputs": [],
   "source": []
  },
  {
   "cell_type": "markdown",
   "metadata": {},
   "source": [
    "#PCA"
   ]
  },
  {
   "cell_type": "code",
   "execution_count": 82,
   "metadata": {},
   "outputs": [
    {
     "data": {
      "text/plain": [
       "(1903, 12)"
      ]
     },
     "execution_count": 82,
     "metadata": {},
     "output_type": "execute_result"
    }
   ],
   "source": [
    "dataset1.shape"
   ]
  },
  {
   "cell_type": "code",
   "execution_count": 83,
   "metadata": {},
   "outputs": [
    {
     "data": {
      "text/plain": [
       "((1903, 11), (1903, 1))"
      ]
     },
     "execution_count": 83,
     "metadata": {},
     "output_type": "execute_result"
    }
   ],
   "source": [
    "X.shape, y.shape"
   ]
  },
  {
   "cell_type": "code",
   "execution_count": 84,
   "metadata": {},
   "outputs": [],
   "source": [
    "from sklearn.preprocessing import StandardScaler\n"
   ]
  },
  {
   "cell_type": "code",
   "execution_count": 100,
   "metadata": {},
   "outputs": [
    {
     "name": "stdout",
     "output_type": "stream",
     "text": [
      "[ 1.53417761e+03  3.80748607e+00  1.36626727e-11 -2.90495100e-01\n",
      " -3.52962149e-01  1.96625629e-01  3.08986973e-01  1.70413720e-01\n",
      "  9.12422647e-03  7.04318267e-03  6.12745928e-03  7.61519167e-03]\n",
      "[[-1.30340724 -1.16196977  1.16196977 -1.96014268  0.48307321 -0.34243062\n",
      "   0.43872307  2.26236704 -1.07572135 -2.2448202  -2.72739491 -1.95313623]\n",
      " [-1.30255711 -1.26022324  1.26022324 -1.97733836 -0.16822162 -0.04266776\n",
      "   3.70627212  2.26236704 -0.64896831 -1.88460591 -2.51884216 -1.5861052 ]\n",
      " [-1.30170697 -1.04566974  1.04566974 -2.17682767 -1.16606642  0.45909683\n",
      "   5.97065384  2.26236704 -0.77512537 -2.06130384 -2.6226201  -1.74225974]\n",
      " [-1.30085684 -1.02762318  1.02762318 -2.08336002 -1.61484475  1.12496311\n",
      "   6.24534639  2.26236704 -0.78408181 -2.03613987 -2.6015343  -1.72918997]\n",
      " [-1.30000671 -1.08978354  1.08978354 -2.06487742 -1.90545827  2.05401826\n",
      "   5.41955277  2.26236704 -0.82890805 -2.06403208 -2.62523441 -1.76106576]\n",
      " [-1.29915657 -0.95142661  0.95142661 -1.93737648 -2.04760806  2.88589019\n",
      "   5.15823756  2.26236704 -0.79438566 -2.03580935 -2.65555619 -1.73767226]\n",
      " [-1.29830644 -0.88325074  0.88325074 -2.05617135 -1.86776798  3.58781875\n",
      "   4.53644952  2.26236704 -0.66518327 -1.86888258 -2.55867231 -1.58694544]\n",
      " [-1.2974563  -0.77697657  0.77697657 -1.68498659 -1.69954122  4.13690137\n",
      "   3.69870212  2.26236704 -1.03427988 -2.13426285 -2.75669052 -1.87888116]\n",
      " [-1.29660617 -0.84715762  0.84715762 -2.38792586 -1.63419377  4.91884012\n",
      "   3.30282411  2.26236704 -1.91595356 -2.69866629 -3.11731901 -2.51715562]]\n"
     ]
    }
   ],
   "source": [
    "scaler = StandardScaler()\n",
    "scaler.fit(dataset1)\n",
    "StandardScaler(copy=True, with_mean=True, with_std=True)\n",
    "print(scaler.mean_)\n",
    "print(scaler.transform(dataset1)[1:10])"
   ]
  },
  {
   "cell_type": "code",
   "execution_count": 101,
   "metadata": {},
   "outputs": [
    {
     "name": "stdout",
     "output_type": "stream",
     "text": [
      "[ 1.53417761e+03  3.80748607e+00 -2.90495100e-01 -3.52962149e-01\n",
      "  1.96625629e-01  3.08986973e-01  1.70413720e-01  9.12422647e-03\n",
      "  7.04318267e-03  6.12745928e-03  7.61519167e-03]\n",
      "[[-1.30340724 -1.16196977 -1.96014268  0.48307321 -0.34243062  0.43872307\n",
      "   2.26236704 -1.07572135 -2.2448202  -2.72739491 -1.95313623]\n",
      " [-1.30255711 -1.26022324 -1.97733836 -0.16822162 -0.04266776  3.70627212\n",
      "   2.26236704 -0.64896831 -1.88460591 -2.51884216 -1.5861052 ]\n",
      " [-1.30170697 -1.04566974 -2.17682767 -1.16606642  0.45909683  5.97065384\n",
      "   2.26236704 -0.77512537 -2.06130384 -2.6226201  -1.74225974]\n",
      " [-1.30085684 -1.02762318 -2.08336002 -1.61484475  1.12496311  6.24534639\n",
      "   2.26236704 -0.78408181 -2.03613987 -2.6015343  -1.72918997]\n",
      " [-1.30000671 -1.08978354 -2.06487742 -1.90545827  2.05401826  5.41955277\n",
      "   2.26236704 -0.82890805 -2.06403208 -2.62523441 -1.76106576]\n",
      " [-1.29915657 -0.95142661 -1.93737648 -2.04760806  2.88589019  5.15823756\n",
      "   2.26236704 -0.79438566 -2.03580935 -2.65555619 -1.73767226]\n",
      " [-1.29830644 -0.88325074 -2.05617135 -1.86776798  3.58781875  4.53644952\n",
      "   2.26236704 -0.66518327 -1.86888258 -2.55867231 -1.58694544]\n",
      " [-1.2974563  -0.77697657 -1.68498659 -1.69954122  4.13690137  3.69870212\n",
      "   2.26236704 -1.03427988 -2.13426285 -2.75669052 -1.87888116]\n",
      " [-1.29660617 -0.84715762 -2.38792586 -1.63419377  4.91884012  3.30282411\n",
      "   2.26236704 -1.91595356 -2.69866629 -3.11731901 -2.51715562]]\n"
     ]
    }
   ],
   "source": [
    "scaler = StandardScaler()\n",
    "scaler.fit(X)\n",
    "StandardScaler(copy=True, with_mean=True, with_std=True)\n",
    "print(scaler.mean_)\n",
    "print(scaler.transform(X)[1:10])"
   ]
  },
  {
   "cell_type": "code",
   "execution_count": 102,
   "metadata": {},
   "outputs": [
    {
     "name": "stdout",
     "output_type": "stream",
     "text": [
      "[1.36626727e-11]\n",
      "[[1.16196977]\n",
      " [1.26022324]\n",
      " [1.04566974]\n",
      " [1.02762318]\n",
      " [1.08978354]\n",
      " [0.95142661]\n",
      " [0.88325074]\n",
      " [0.77697657]\n",
      " [0.84715762]]\n"
     ]
    }
   ],
   "source": [
    "scaler = StandardScaler()\n",
    "scaler.fit(y)\n",
    "StandardScaler(copy=True, with_mean=True, with_std=True)\n",
    "print(scaler.mean_)\n",
    "print(scaler.transform(y)[1:10])"
   ]
  },
  {
   "cell_type": "code",
   "execution_count": 103,
   "metadata": {},
   "outputs": [],
   "source": [
    "import numpy as np # linear algebra\n",
    "import pandas as pd # data processing, CSV file I/O (e.g. pd.read_csv)\n",
    "from sklearn.decomposition import PCA\n",
    "from sklearn.preprocessing import Imputer\n",
    "from sklearn.model_selection import KFold\n",
    "from sklearn import linear_model\n",
    "from sklearn.metrics import make_scorer\n",
    "from sklearn import svm\n",
    "from sklearn.metrics import r2_score\n",
    "from sklearn.ensemble import AdaBoostRegressor\n",
    "from sklearn.model_selection import cross_val_score\n",
    "from sklearn.model_selection import GridSearchCV\n",
    "import matplotlib.pyplot as plt\n",
    "import seaborn\n",
    "import warnings\n",
    "warnings.filterwarnings('ignore')"
   ]
  },
  {
   "cell_type": "code",
   "execution_count": 105,
   "metadata": {},
   "outputs": [
    {
     "data": {
      "text/plain": [
       "array([0.99999656, 0.99999758, 0.99999846, 0.9999991 , 0.99999956,\n",
       "       0.99999975, 0.99999988, 1.        , 1.        , 1.        ,\n",
       "       1.        , 1.        ])"
      ]
     },
     "execution_count": 105,
     "metadata": {},
     "output_type": "execute_result"
    }
   ],
   "source": [
    "pca = PCA(whiten=True)\n",
    "pca.fit(dataset1)\n",
    "variance = pd.DataFrame(pca.explained_variance_ratio_)\n",
    "np.cumsum(pca.explained_variance_ratio_)"
   ]
  },
  {
   "cell_type": "code",
   "execution_count": 117,
   "metadata": {},
   "outputs": [
    {
     "data": {
      "text/plain": [
       "array([[ 9.99999012e-01, -3.11106469e-04,  6.23658332e-04,\n",
       "         5.02894315e-04,  7.02242124e-04, -4.72130809e-04,\n",
       "        -6.29506596e-04, -3.53262951e-04, -6.50602645e-06,\n",
       "        -1.32419996e-06,  2.18032640e-06, -2.50562834e-06],\n",
       "       [ 1.97280810e-04,  4.10474159e-02, -8.22855372e-02,\n",
       "         2.96372150e-02,  3.36007310e-02, -2.13479069e-01,\n",
       "        -3.76441603e-03,  7.85132506e-01, -3.04348824e-01,\n",
       "        -2.84770373e-01, -2.64543762e-01, -2.89500393e-01],\n",
       "       [ 9.91559021e-04,  1.99619034e-01, -4.00165494e-01,\n",
       "        -6.01641947e-01, -1.03312411e-01,  4.54120198e-01,\n",
       "         2.39665571e-01, -1.67419674e-01, -1.67094688e-01,\n",
       "        -1.85932211e-01, -1.99549699e-01, -1.82665700e-01]])"
      ]
     },
     "execution_count": 117,
     "metadata": {},
     "output_type": "execute_result"
    }
   ],
   "source": [
    "pca = PCA(n_components=3,whiten=True)\n",
    "pca = pca.fit(dataset1)\n",
    "dataPCA = pca.transform(dataset1)\n",
    "\n",
    "pca.components_"
   ]
  },
  {
   "cell_type": "code",
   "execution_count": 118,
   "metadata": {},
   "outputs": [],
   "source": [
    "train_X, test_X, train_y, test_y = train_test_split( X, y, test_size=.20, random_state=0)"
   ]
  },
  {
   "cell_type": "code",
   "execution_count": 119,
   "metadata": {},
   "outputs": [],
   "source": [
    "from sklearn.preprocessing import StandardScaler\n",
    "scaler = StandardScaler()\n",
    "# Fit on training set only.\n",
    "scaler.fit(train_X)\n",
    "# Apply transform to both the training set and the test set.\n",
    "train_X = scaler.transform(train_X)\n",
    "test_X = scaler.transform(test_X)"
   ]
  },
  {
   "cell_type": "code",
   "execution_count": 120,
   "metadata": {},
   "outputs": [],
   "source": [
    "from sklearn.decomposition import PCA\n",
    "# Make an instance of the Model\n",
    "pca = PCA(.95)"
   ]
  },
  {
   "cell_type": "code",
   "execution_count": 121,
   "metadata": {},
   "outputs": [
    {
     "data": {
      "text/plain": [
       "PCA(copy=True, iterated_power='auto', n_components=0.95, random_state=None,\n",
       "    svd_solver='auto', tol=0.0, whiten=False)"
      ]
     },
     "execution_count": 121,
     "metadata": {},
     "output_type": "execute_result"
    }
   ],
   "source": [
    "pca.fit(train_X)"
   ]
  },
  {
   "cell_type": "code",
   "execution_count": 122,
   "metadata": {},
   "outputs": [],
   "source": [
    "train_X = pca.transform(train_X)\n",
    "test_X = pca.transform(test_X)"
   ]
  },
  {
   "cell_type": "code",
   "execution_count": 123,
   "metadata": {},
   "outputs": [],
   "source": [
    "from sklearn.linear_model import LinearRegression"
   ]
  },
  {
   "cell_type": "code",
   "execution_count": 124,
   "metadata": {},
   "outputs": [],
   "source": [
    "lr = LinearRegression()"
   ]
  },
  {
   "cell_type": "code",
   "execution_count": 125,
   "metadata": {},
   "outputs": [
    {
     "data": {
      "text/plain": [
       "LinearRegression(copy_X=True, fit_intercept=True, n_jobs=None, normalize=False)"
      ]
     },
     "execution_count": 125,
     "metadata": {},
     "output_type": "execute_result"
    }
   ],
   "source": [
    "lr.fit(train_X, train_y)"
   ]
  },
  {
   "cell_type": "code",
   "execution_count": 126,
   "metadata": {},
   "outputs": [
    {
     "data": {
      "text/plain": [
       "array([[-0.18436355]])"
      ]
     },
     "execution_count": 126,
     "metadata": {},
     "output_type": "execute_result"
    }
   ],
   "source": [
    "lr.predict(test_X[0].reshape(1,-1))"
   ]
  },
  {
   "cell_type": "code",
   "execution_count": 127,
   "metadata": {},
   "outputs": [
    {
     "data": {
      "text/plain": [
       "array([[-0.18436355],\n",
       "       [-0.54224493],\n",
       "       [-1.01765886],\n",
       "       [-0.22057536],\n",
       "       [ 1.69454793],\n",
       "       [-0.61578136],\n",
       "       [ 0.99513289],\n",
       "       [-0.07830178],\n",
       "       [-0.57078854],\n",
       "       [-1.11404361]])"
      ]
     },
     "execution_count": 127,
     "metadata": {},
     "output_type": "execute_result"
    }
   ],
   "source": [
    "lr.predict(test_X[0:10])"
   ]
  },
  {
   "cell_type": "code",
   "execution_count": 128,
   "metadata": {},
   "outputs": [
    {
     "data": {
      "text/plain": [
       "0.9084587598442164"
      ]
     },
     "execution_count": 128,
     "metadata": {},
     "output_type": "execute_result"
    }
   ],
   "source": [
    "lr.score(test_X, test_y)"
   ]
  },
  {
   "cell_type": "markdown",
   "metadata": {},
   "source": [
    "fig, axes = plt.subplots(1,len(train_copy.columns.values),sharey=True,constrained_layout=True,figsize=(30,15))\n",
    "\n",
    "for i,e in enumerate(train_copy.columns):\n",
    "  linear_regr_test.fit(train_copy[e].values[:,np.newaxis], y.values)\n",
    "  axes[i].set_title(\"Best fit line\")\n",
    "  axes[i].set_xlabel(str(e))\n",
    "  axes[i].set_ylabel('SalePrice')\n",
    "  axes[i].scatter(train_copy[e].values[:,np.newaxis], y,color='g')\n",
    "  axes[i].plot(train_copy[e].values[:,np.newaxis], \n",
    "  linear_regr_test.predict(train_copy[e].values[:,np.newaxis]),color='k')"
   ]
  }
 ],
 "metadata": {
  "kernelspec": {
   "display_name": "Python 3",
   "language": "python",
   "name": "python3"
  },
  "language_info": {
   "codemirror_mode": {
    "name": "ipython",
    "version": 3
   },
   "file_extension": ".py",
   "mimetype": "text/x-python",
   "name": "python",
   "nbconvert_exporter": "python",
   "pygments_lexer": "ipython3",
   "version": "3.7.5"
  }
 },
 "nbformat": 4,
 "nbformat_minor": 2
}
